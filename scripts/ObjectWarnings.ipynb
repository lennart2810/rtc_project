{
 "cells": [
  {
   "cell_type": "code",
   "execution_count": null,
   "metadata": {},
   "outputs": [],
   "source": [
    "# -- ObjectWarnings.ipynb --\n",
    "# Version vom 17.11.2021 by LF\n",
    "# ----------------------------\n",
    "\n",
    "import yaml\n",
    "\n",
    "path = \"/home/lennart/catkin_ws/src/rtc_project/config/StatusToTurtleTwist.yaml\"\n",
    "\n",
    "with open(path, \"r\") as stream:\n",
    "    try:\n",
    "        yaml_file = (yaml.safe_load(stream))\n",
    "        print(yaml_file)\n",
    "    except yaml.YAMLError as exc:\n",
    "        print(exc)\n"
   ]
  }
 ],
 "metadata": {
  "language_info": {
   "name": "python"
  },
  "orig_nbformat": 4
 },
 "nbformat": 4,
 "nbformat_minor": 2
}
