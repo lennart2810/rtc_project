{
 "cells": [
  {
   "cell_type": "code",
   "execution_count": 31,
   "metadata": {},
   "outputs": [
    {
     "name": "stdout",
     "output_type": "stream",
     "text": [
      "{'min': 0.12, 'max': 3.5, 'critical': 0.8, 'n': 2}\n"
     ]
    }
   ],
   "source": [
    "# -- ObjectWarnings.ipynb --\n",
    "# Version vom 17.11.2021 by LF\n",
    "# ----------------------------\n",
    "\n",
    "import os\n",
    "import yaml\n",
    "\n",
    "# create 'relative' path to file\n",
    "dirname = os.getcwd()\n",
    "filename = dirname.replace('scripts','config/StatusToTurtleTwist.yaml')\n",
    "\n",
    "with open(filename, \"r\") as stream:\n",
    "    try:\n",
    "        yaml_file = (yaml.safe_load(stream))\n",
    "        distances = yaml_file['distance']\n",
    "        print(distances)\n",
    "    except yaml.YAMLError as exc:\n",
    "        print(exc)\n"
   ]
  },
  {
   "cell_type": "code",
   "execution_count": null,
   "metadata": {},
   "outputs": [],
   "source": []
  }
 ],
 "metadata": {
  "interpreter": {
   "hash": "916dbcbb3f70747c44a77c7bcd40155683ae19c65e1c03b4aa3499c5328201f1"
  },
  "kernelspec": {
   "display_name": "Python 3.8.10 64-bit",
   "language": "python",
   "name": "python3"
  },
  "language_info": {
   "codemirror_mode": {
    "name": "ipython",
    "version": 3
   },
   "file_extension": ".py",
   "mimetype": "text/x-python",
   "name": "python",
   "nbconvert_exporter": "python",
   "pygments_lexer": "ipython3",
   "version": "3.8.10"
  },
  "orig_nbformat": 4
 },
 "nbformat": 4,
 "nbformat_minor": 2
}
