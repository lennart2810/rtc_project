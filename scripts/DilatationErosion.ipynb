{
 "cells": [
  {
   "cell_type": "code",
   "execution_count": 10,
   "metadata": {},
   "outputs": [
    {
     "data": {
      "text/plain": [
       "-1"
      ]
     },
     "execution_count": 10,
     "metadata": {},
     "output_type": "execute_result"
    }
   ],
   "source": [
    "# https://www.geeksforgeeks.org/erosion-dilation-images-using-opencv-python/\n",
    "# Python program to demonstrate erosion and\n",
    "# dilation of images.\n",
    "import cv2\n",
    "import numpy as np\n",
    " \n",
    "# Reading the input image\n",
    "img = cv2.imread('Arena.pgm', 0)\n",
    " \n",
    "# Taking a matrix of size 5 as the kernel\n",
    "kernel_erosion = np.ones((2,2), np.uint8)\n",
    "kernel_dilation = np.ones((2,2), np.uint8)\n",
    " \n",
    "# The first parameter is the original image,\n",
    "# kernel is the matrix with which image is\n",
    "# convolved and third parameter is the number\n",
    "# of iterations, which will determine how much\n",
    "# you want to erode/dilate a given image.\n",
    "\n",
    "img_erosion = cv2.erode(img, kernel_erosion, iterations=1)\n",
    "img_dilation = cv2.dilate(img_erosion, kernel_dilation, iterations=1)\n",
    "\n",
    " \n",
    "cv2.imshow('Input', img)\n",
    "#cv2.imshow('Erosion', img_erosion)\n",
    "cv2.imshow('Dilation', img_dilation)\n",
    " \n",
    "cv2.waitKey(0)"
   ]
  },
  {
   "cell_type": "code",
   "execution_count": null,
   "metadata": {},
   "outputs": [],
   "source": []
  }
 ],
 "metadata": {
  "interpreter": {
   "hash": "916dbcbb3f70747c44a77c7bcd40155683ae19c65e1c03b4aa3499c5328201f1"
  },
  "kernelspec": {
   "display_name": "Python 3.8.10 64-bit",
   "language": "python",
   "name": "python3"
  },
  "language_info": {
   "codemirror_mode": {
    "name": "ipython",
    "version": 3
   },
   "file_extension": ".py",
   "mimetype": "text/x-python",
   "name": "python",
   "nbconvert_exporter": "python",
   "pygments_lexer": "ipython3",
   "version": "3.8.10"
  },
  "orig_nbformat": 4
 },
 "nbformat": 4,
 "nbformat_minor": 2
}
